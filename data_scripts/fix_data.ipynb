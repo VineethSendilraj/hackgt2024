{
 "cells": [
  {
   "cell_type": "code",
   "execution_count": 4,
   "metadata": {},
   "outputs": [
    {
     "name": "stdout",
     "output_type": "stream",
     "text": [
      "Done\n"
     ]
    }
   ],
   "source": [
    "data_path = '2019_2020.geojson'\n",
    "\n",
    "\n",
    "def update_coordinates(data):\n",
    "    for feature in data['features']:\n",
    "        lat = feature['properties']['Latitude']\n",
    "        lon = feature['properties']['Longitude']\n",
    "        feature['geometry']['coordinates'] = [lon, lat]  # Update coordinates\n",
    "\n",
    "# Read the data\n",
    "import json\n",
    "with open(data_path) as f:\n",
    "    data = json.load(f)\n",
    "\n",
    "# Update the coordinates\n",
    "update_coordinates(data)\n",
    "\n",
    "# Write the data\n",
    "with open(data_path, 'w') as f:\n",
    "    json.dump(data, f)\n",
    "\n",
    "print('Done')"
   ]
  }
 ],
 "metadata": {
  "kernelspec": {
   "display_name": "venv",
   "language": "python",
   "name": "python3"
  },
  "language_info": {
   "codemirror_mode": {
    "name": "ipython",
    "version": 3
   },
   "file_extension": ".py",
   "mimetype": "text/x-python",
   "name": "python",
   "nbconvert_exporter": "python",
   "pygments_lexer": "ipython3",
   "version": "3.9.6"
  }
 },
 "nbformat": 4,
 "nbformat_minor": 2
}
